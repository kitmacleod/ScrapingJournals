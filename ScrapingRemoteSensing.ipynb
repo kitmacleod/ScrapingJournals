{
  "nbformat": 4,
  "nbformat_minor": 0,
  "metadata": {
    "colab": {
      "name": "ScrapingRemoteSensing.ipynb",
      "provenance": [],
      "collapsed_sections": [],
      "authorship_tag": "ABX9TyPZFhVEUMJksZe3Pks9KDQr",
      "include_colab_link": true
    },
    "kernelspec": {
      "name": "python3",
      "display_name": "Python 3"
    }
  },
  "cells": [
    {
      "cell_type": "markdown",
      "metadata": {
        "id": "view-in-github",
        "colab_type": "text"
      },
      "source": [
        "<a href=\"https://colab.research.google.com/github/kitmacleod/ScrapingJournals/blob/master/ScrapingRemoteSensing.ipynb\" target=\"_parent\"><img src=\"https://colab.research.google.com/assets/colab-badge.svg\" alt=\"Open In Colab\"/></a>"
      ]
    },
    {
      "cell_type": "markdown",
      "metadata": {
        "id": "Y_V48WzNqmOp",
        "colab_type": "text"
      },
      "source": [
        "Scraping main details of scientific papers from an M-D-P-I Journal site e.g. Remote Sensing. "
      ]
    },
    {
      "cell_type": "code",
      "metadata": {
        "id": "j7xCs__-cRaV",
        "colab_type": "code",
        "colab": {}
      },
      "source": [
        "# Authenticate to Google Sheets\n",
        "from google.colab import auth\n",
        "auth.authenticate_user()\n",
        "\n",
        "import gspread\n",
        "from oauth2client.client import GoogleCredentials\n",
        "\n",
        "gc = gspread.authorize(GoogleCredentials.get_application_default())"
      ],
      "execution_count": 0,
      "outputs": []
    },
    {
      "cell_type": "code",
      "metadata": {
        "id": "-Scoe7qNuaCa",
        "colab_type": "code",
        "colab": {}
      },
      "source": [
        "# Test gspread and share so I can view it\n",
        "sh = gc.create('Test200320')\n",
        "sh.share('kitmacleod@gmail.com', perm_type='user', role='writer')"
      ],
      "execution_count": 0,
      "outputs": []
    },
    {
      "cell_type": "code",
      "metadata": {
        "id": "j0klGCD0BQfr",
        "colab_type": "code",
        "colab": {}
      },
      "source": [
        "import requests \n",
        "\n",
        "URL = 'https://www.mdpi.com/2072-4292/12/6/989'\n",
        "page = requests.get(URL)"
      ],
      "execution_count": 0,
      "outputs": []
    },
    {
      "cell_type": "code",
      "metadata": {
        "id": "ep-lVXoHIayN",
        "colab_type": "code",
        "colab": {}
      },
      "source": [
        "from bs4 import BeautifulSoup\n",
        "soup = BeautifulSoup(page.content, 'html.parser')"
      ],
      "execution_count": 0,
      "outputs": []
    },
    {
      "cell_type": "code",
      "metadata": {
        "id": "tZo5OzqRKk6z",
        "colab_type": "code",
        "colab": {
          "base_uri": "https://localhost:8080/",
          "height": 34
        },
        "outputId": "b0e9e058-4bb0-4a21-b8fe-6ac92e7bc7ee"
      },
      "source": [
        "# Access a specific meta tag\n",
        "title = soup.find(\"meta\", attrs={'name':'title'})\n",
        "print(title[\"content\"] if title else \"No meta title given\")"
      ],
      "execution_count": 10,
      "outputs": [
        {
          "output_type": "stream",
          "text": [
            "HQ-ISNet: High-Quality Instance Segmentation for Remote Sensing Imagery\n"
          ],
          "name": "stdout"
        }
      ]
    },
    {
      "cell_type": "code",
      "metadata": {
        "id": "zzmUhaOgR0vr",
        "colab_type": "code",
        "colab": {
          "base_uri": "https://localhost:8080/",
          "height": 139
        },
        "outputId": "c8aad65a-e156-4c7c-c75f-53d9e75c7ace"
      },
      "source": [
        "# Access several tags/fields of interest \n",
        "title = soup.find(\"meta\", attrs={'name':'dc.title'})\n",
        "source = soup.find(\"meta\", attrs={'name':'dc.source'})\n",
        "# May not work as multiple dc.creator \n",
        "leadAuthor = soup.find(\"meta\", attrs={'name':'dc.creator'})\n",
        "date = soup.find(\"meta\", attrs={'name':'dc.date'})\n",
        "license = soup.find(\"meta\", attrs={'name':'dc.rights'})\n",
        "abstract = soup.find(\"meta\", attrs={'name':'dc.description'})\n",
        "\n",
        "# ToDo I could also scrape url, ID, and keywords (multiple dc.subject) \n",
        "\n",
        "print(title[\"content\"] if title else \"No meta title given\")\n",
        "print(source[\"content\"] if source else \"No meta source given\")\n",
        "print(leadAuthor[\"content\"] if leadAuthor else \"No meta leadAuthor given\")\n",
        "print(date[\"content\"] if date else \"No meta date given\")\n",
        "print(license[\"content\"] if license else \"No meta license given\")\n",
        "print(abstract[\"content\"] if abstract else \"No meta abstract given\")"
      ],
      "execution_count": 11,
      "outputs": [
        {
          "output_type": "stream",
          "text": [
            "HQ-ISNet: High-Quality Instance Segmentation for Remote Sensing Imagery\n",
            "Remote Sensing 2020, Vol. 12, Page 989\n",
            "Hao Su\n",
            "2020-03-19\n",
            "http://creativecommons.org/licenses/by/3.0/\n",
            "Instance segmentation in high-resolution (HR) remote sensing imagery is one of the most challenging tasks and is more difficult than object detection and semantic segmentation tasks. It aims to predict class labels and pixel-wise instance masks to locate instances in an image. However, there are rare methods currently suitable for instance segmentation in the HR remote sensing images. Meanwhile, it is more difficult to implement instance segmentation due to the complex background of remote sensing images. In this article, a novel instance segmentation approach of HR remote sensing imagery based on Cascade Mask R-CNN is proposed, which is called a high-quality instance segmentation network (HQ-ISNet). In this scheme, the HQ-ISNet exploits a HR feature pyramid network (HRFPN) to fully utilize multi-level feature maps and maintain HR feature maps for remote sensing images&rsquo; instance segmentation. Next, to refine mask information flow between mask branches, the instance segmentation network version 2 (ISNetV2) is proposed to promote further improvements in mask prediction accuracy. Then, we construct a new, more challenging dataset based on the synthetic aperture radar (SAR) ship detection dataset (SSDD) and the Northwestern Polytechnical University very-high-resolution 10-class geospatial object detection dataset (NWPU VHR-10) for remote sensing images instance segmentation which can be used as a benchmark for evaluating instance segmentation algorithms in the high-resolution remote sensing images. Finally, extensive experimental analyses and comparisons on the SSDD and the NWPU VHR-10 dataset show that (1) the HRFPN makes the predicted instance masks more accurate, which can effectively enhance the instance segmentation performance of the high-resolution remote sensing imagery; (2) the ISNetV2 is effective and promotes further improvements in mask prediction accuracy; (3) our proposed framework HQ-ISNet is effective and more accurate for instance segmentation in the remote sensing imagery than the existing algorithms.\n"
          ],
          "name": "stdout"
        }
      ]
    },
    {
      "cell_type": "code",
      "metadata": {
        "id": "dvX7iMRXVQGP",
        "colab_type": "code",
        "colab": {}
      },
      "source": [
        "# Try saving to Google Sheets\n",
        "\n"
      ],
      "execution_count": 0,
      "outputs": []
    }
  ]
}