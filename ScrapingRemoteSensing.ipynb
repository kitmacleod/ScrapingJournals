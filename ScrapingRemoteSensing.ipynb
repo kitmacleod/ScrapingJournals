{
  "nbformat": 4,
  "nbformat_minor": 0,
  "metadata": {
    "colab": {
      "name": "ScrapingRemoteSensing.ipynb",
      "provenance": [],
      "authorship_tag": "ABX9TyOJ7O0HedEvE/8ACOxWkOmN",
      "include_colab_link": true
    },
    "kernelspec": {
      "name": "python3",
      "display_name": "Python 3"
    }
  },
  "cells": [
    {
      "cell_type": "markdown",
      "metadata": {
        "id": "view-in-github",
        "colab_type": "text"
      },
      "source": [
        "<a href=\"https://colab.research.google.com/github/kitmacleod/ScrapingJournals/blob/master/ScrapingRemoteSensing.ipynb\" target=\"_parent\"><img src=\"https://colab.research.google.com/assets/colab-badge.svg\" alt=\"Open In Colab\"/></a>"
      ]
    },
    {
      "cell_type": "code",
      "metadata": {
        "id": "j7xCs__-cRaV",
        "colab_type": "code",
        "colab": {}
      },
      "source": [
        ""
      ],
      "execution_count": 0,
      "outputs": []
    },
    {
      "cell_type": "markdown",
      "metadata": {
        "id": "Y_V48WzNqmOp",
        "colab_type": "text"
      },
      "source": [
        "Scraping main details of scientific papers from an M-D-P-I site"
      ]
    }
  ]
}